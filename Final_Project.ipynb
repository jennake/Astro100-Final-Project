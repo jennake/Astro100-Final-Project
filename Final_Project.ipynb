{
  "nbformat": 4,
  "nbformat_minor": 0,
  "metadata": {
    "colab": {
      "provenance": [],
      "authorship_tag": "ABX9TyPFJtId/sb6LQTlj9MdDNkA",
      "include_colab_link": true
    },
    "kernelspec": {
      "name": "python3",
      "display_name": "Python 3"
    },
    "language_info": {
      "name": "python"
    }
  },
  "cells": [
    {
      "cell_type": "markdown",
      "metadata": {
        "id": "view-in-github",
        "colab_type": "text"
      },
      "source": [
        "<a href=\"https://colab.research.google.com/github/jennake/Astro100-Final-Project/blob/main/Final_Project.ipynb\" target=\"_parent\"><img src=\"https://colab.research.google.com/assets/colab-badge.svg\" alt=\"Open In Colab\"/></a>"
      ]
    },
    {
      "cell_type": "code",
      "execution_count": null,
      "metadata": {
        "colab": {
          "base_uri": "https://localhost:8080/"
        },
        "id": "6ERoll644ihE",
        "outputId": "31356304-a5d8-40ef-cb8a-c8ab3e97e8e0"
      },
      "outputs": [
        {
          "output_type": "stream",
          "name": "stdout",
          "text": [
            "Requirement already satisfied: astropy in /usr/local/lib/python3.11/dist-packages (7.0.1)\n",
            "Requirement already satisfied: numpy>=1.23.2 in /usr/local/lib/python3.11/dist-packages (from astropy) (2.0.2)\n",
            "Requirement already satisfied: pyerfa>=2.0.1.1 in /usr/local/lib/python3.11/dist-packages (from astropy) (2.0.1.5)\n",
            "Requirement already satisfied: astropy-iers-data>=0.2025.1.31.12.41.4 in /usr/local/lib/python3.11/dist-packages (from astropy) (0.2025.3.17.0.34.53)\n",
            "Requirement already satisfied: PyYAML>=6.0.0 in /usr/local/lib/python3.11/dist-packages (from astropy) (6.0.2)\n",
            "Requirement already satisfied: packaging>=22.0.0 in /usr/local/lib/python3.11/dist-packages (from astropy) (24.2)\n",
            "Collecting photutils\n",
            "  Downloading photutils-2.2.0-cp311-cp311-manylinux_2_5_x86_64.manylinux1_x86_64.manylinux_2_17_x86_64.manylinux2014_x86_64.whl.metadata (7.0 kB)\n",
            "Requirement already satisfied: numpy>=1.24 in /usr/local/lib/python3.11/dist-packages (from photutils) (2.0.2)\n",
            "Requirement already satisfied: astropy>=5.3 in /usr/local/lib/python3.11/dist-packages (from photutils) (7.0.1)\n",
            "Requirement already satisfied: scipy>=1.10 in /usr/local/lib/python3.11/dist-packages (from photutils) (1.14.1)\n",
            "Requirement already satisfied: pyerfa>=2.0.1.1 in /usr/local/lib/python3.11/dist-packages (from astropy>=5.3->photutils) (2.0.1.5)\n",
            "Requirement already satisfied: astropy-iers-data>=0.2025.1.31.12.41.4 in /usr/local/lib/python3.11/dist-packages (from astropy>=5.3->photutils) (0.2025.3.17.0.34.53)\n",
            "Requirement already satisfied: PyYAML>=6.0.0 in /usr/local/lib/python3.11/dist-packages (from astropy>=5.3->photutils) (6.0.2)\n",
            "Requirement already satisfied: packaging>=22.0.0 in /usr/local/lib/python3.11/dist-packages (from astropy>=5.3->photutils) (24.2)\n",
            "Downloading photutils-2.2.0-cp311-cp311-manylinux_2_5_x86_64.manylinux1_x86_64.manylinux_2_17_x86_64.manylinux2014_x86_64.whl (1.2 MB)\n",
            "\u001b[2K   \u001b[90m━━━━━━━━━━━━━━━━━━━━━━━━━━━━━━━━━━━━━━━━\u001b[0m \u001b[32m1.2/1.2 MB\u001b[0m \u001b[31m14.5 MB/s\u001b[0m eta \u001b[36m0:00:00\u001b[0m\n",
            "\u001b[?25hInstalling collected packages: photutils\n",
            "Successfully installed photutils-2.2.0\n"
          ]
        }
      ],
      "source": [
        "!pip install astropy --upgrade\n",
        "!pip install photutils\n",
        "\n",
        "import numpy as np\n",
        "import math\n",
        "import matplotlib.pyplot as plt\n",
        "import os\n",
        "from astropy.io import fits\n",
        "from astropy.stats import sigma_clipped_stats\n",
        "import glob\n",
        "import warnings\n",
        "warnings.filterwarnings(\"ignore\")\n",
        "from matplotlib.gridspec import GridSpec"
      ]
    },
    {
      "cell_type": "code",
      "source": [
        "from google.colab import drive\n",
        "drive.mount('/content/drive', force_remount=True)\n",
        "import os"
      ],
      "metadata": {
        "colab": {
          "base_uri": "https://localhost:8080/"
        },
        "id": "iyB5Q4h14kkc",
        "outputId": "2c28f524-36c8-4cf9-9b45-de9302975df1"
      },
      "execution_count": null,
      "outputs": [
        {
          "output_type": "stream",
          "name": "stdout",
          "text": [
            "Mounted at /content/drive\n"
          ]
        }
      ]
    },
    {
      "cell_type": "code",
      "source": [
        "import glob\n",
        "dir = 'drive/MyDrive/ASTRO 100/FAST/2025.0318'\n",
        "fast1 = glob.glob(dir+\"/0067.NGC4038.fits\")\n",
        "fast2 = glob.glob(dir+\"/0065.NGC4038.fits\")\n",
        "fast3 = glob.glob(dir+\"/0064.NGC4038.fits\")"
      ],
      "metadata": {
        "id": "6cDZbuXl4sor"
      },
      "execution_count": null,
      "outputs": []
    },
    {
      "cell_type": "code",
      "source": [
        "fast_1 = fits.open(fast1[0])\n",
        "#headers = fits.getheader(fast_1[0])\n",
        "#data = test_hdu[0:]\n",
        "fast_1.info()"
      ],
      "metadata": {
        "colab": {
          "base_uri": "https://localhost:8080/"
        },
        "id": "97xwSBGv7o5V",
        "outputId": "76745165-9d27-4e0e-80ff-8d6523cae138"
      },
      "execution_count": null,
      "outputs": [
        {
          "output_type": "stream",
          "name": "stdout",
          "text": [
            "Filename: drive/MyDrive/ASTRO 100/FAST/2025.0318/0067.NGC4038.fits\n",
            "No.    Name      Ver    Type      Cards   Dimensions   Format\n",
            "  0  PRIMARY       1 PrimaryHDU      74   (2720, 161)   int16 (rescales to uint16)   \n"
          ]
        }
      ]
    },
    {
      "cell_type": "code",
      "source": [
        "fast_1[0].header"
      ],
      "metadata": {
        "colab": {
          "base_uri": "https://localhost:8080/"
        },
        "id": "EOmRXYOG8S36",
        "outputId": "3cf76403-674f-4197-fc9a-7dfbec010ca4"
      },
      "execution_count": null,
      "outputs": [
        {
          "output_type": "execute_result",
          "data": {
            "text/plain": [
              "SIMPLE  =                    T / Primary FITS image array                       \n",
              "BITPIX  =                   16                                                  \n",
              "NAXIS   =                    2 / NUMBER OF AXES                                 \n",
              "NAXIS1  =                 2720 / CHIP WIDTH                                     \n",
              "NAXIS2  =                  161 / CHIP HEIGHT                                    \n",
              "EXTEND  =                    F / Fits standard                                  \n",
              "OBJECT  = 'NGC4038           ' / OBJECT NAME                                    \n",
              "NAMPS   =                    1                                                  \n",
              "DATE    = '2025-03-19T07:25:16' / UT date/time at start                         \n",
              "DATE-OBS= '2025-03-19        ' / UT date/time at start                          \n",
              "RA      = '12:01:53.002      ' / RA                                             \n",
              "DEC     = '-18:52:03.32      ' / DEC                                            \n",
              "EPOCH   = '2000              ' / EPOCH                                          \n",
              "ROTANGLE= '047               ' / ROT ANGLE                                      \n",
              "FASTFOC = '1340              ' / FAST FOCUS                                     \n",
              "AIRMASS = '1.58              ' / AIR MASS                                       \n",
              "RRA     = '12:01:53.002      ' / RRA                                            \n",
              "RDEC    = '-18:52:03.32      ' / RDEC                                           \n",
              "REPOCH  = '2000              ' / REPOCH                                         \n",
              "TRA     = '12:01:53.368      ' / TRA                                            \n",
              "TDEC    = '-18:54:15.53      ' / TDEC                                           \n",
              "TEPOCH  = '2000.00           ' / TEPOCH                                         \n",
              "ST      = ' 12:05:9.36       ' / SIDEREAL TIME START                            \n",
              "HA      = ' 00:02:58.04      ' / HOUR ANGLE                                     \n",
              "DOME    = ' 152.8            ' / DOME AZ                                        \n",
              "UT      = '07:25:16          ' / UT time at start                               \n",
              "UTEND   = '07:40:16          ' / UT time at end                                 \n",
              "MJD     =         60753.314421 / MODIFIED JULIAN DATE MID TIME                  \n",
              "GJDN    =       2460753.814421 / GEOCENTRIC JULIAN DATE MID TIME                \n",
              "HJDN    =       2460753.819846 / HELIOCENTRIC JULIAN DATE MID TIME              \n",
              "SITENAME= 'flwo1             '                                                  \n",
              "SITELONG= '+110:52:39.0      ' / LONGITUDE, DEGREES WEST OF ZERO                \n",
              "SITELAT = '+31:40:51.4       ' / LATITUDE, DEGREES                              \n",
              "SITEELEV= '2320.0            ' / ELEVATION, METERS                              \n",
              "DETECTOR= 'FAST3             ' / DETECTOR ID                                    \n",
              "CCDSERIA= 'STA520A SN4377    ' / CHIP ID                                        \n",
              "INSTRUME= 'FAST              '                                                  \n",
              "OBSERVAT= 'flwo1             '                                                  \n",
              "IRAFNAME= '0067.NGC4038.fits '                                                  \n",
              "DISKFILE=                   67 / FILE NO. IN RAW DIR                            \n",
              "DISKDIR = '/data/fast/2025.0318' / ORIGINAL RAW DIR                             \n",
              "TELESCOP= 'TILLINGHAST       '                                                  \n",
              "DISPAXIS=                    1                                                  \n",
              "EXPTIME =              900.000 / INTEGRATION TIME, SECONDS                      \n",
              "DARKTIME=              900.000 / ELAPSED TIME, SECONDS                          \n",
              "IMAGETYP= 'OBJECT            ' / IRAF TYPE KEY                                  \n",
              "BZERO   =        32768.0000000                                                  \n",
              "BSCALE  =            1.0000000                                                  \n",
              "CCDSUM  = '1 2               '                                                  \n",
              "BIN     = '2                 '                                                  \n",
              "LTM1_1  =            1.0000000                                                  \n",
              "LTM2_2  =            0.5000000                                                  \n",
              "LTV1    =           32.0000000                                                  \n",
              "LTV2    =            0.2500000                                                  \n",
              "DATASEC = '[33:2720,1:161]   ' / BIN DATA SECT                                  \n",
              "CCDSEC  = '[33:2720,1:161]   ' / UNBIN AMP SIZE                                 \n",
              "TRIMSEC = '[35:2715,1:161]   ' / BIN DATA SECT                                  \n",
              "BIASSEC = '[2:30,1:161]      ' / BIN BIAS SECT                                  \n",
              "GAIN    =            0.8000000                                                  \n",
              "RDNOISE =            4.4000000                                                  \n",
              "ADC     = 'PA -0.3 A=63.3 B=297.3 HA= -00:00:51.58 defl=27.0 AD=139.0 BD=85.0'  \n",
              "OBSERVER= 'Astro100          '                                                  \n",
              "P.I.    = 'Berger            '                                                  \n",
              "PROGRAM = '#196 ASTRON 100   '                                                  \n",
              "APERTURE= '3.0               '                                                  \n",
              "DISPERSE= '300               '                                                  \n",
              "TILTPOS = '590               '                                                  \n",
              "COMMENT = 'Observer: Astro100'                                                  \n",
              "COMMENT = 'P.I.: Berger      '                                                  \n",
              "COMMENT = 'Program: #196 ASTRON 100'                                            \n",
              "COMMENT = 'Seeing: 1-2\"      '                                                  \n",
              "COMMENT = 'Aperture: 3\"      '                                                  \n",
              "COMMENT = 'Disperse: 300     '                                                  \n",
              "COMMENT = 'Tiltpos: 590      '                                                  "
            ]
          },
          "metadata": {},
          "execution_count": 16
        }
      ]
    },
    {
      "cell_type": "code",
      "source": [
        "dir2 = 'drive/MyDrive/ASTRO 100/KeplerCam/2025.0318'\n",
        "kep_files = glob.glob(dir2+\"/0086.NGC4472.fits\")"
      ],
      "metadata": {
        "id": "ZfyHGE1d744m"
      },
      "execution_count": null,
      "outputs": []
    },
    {
      "cell_type": "code",
      "source": [
        "# Load the FITS file\n",
        "with fits.open(kep_files[0]) as hdul:\n",
        "    hdul.info()  # Show file structure\n",
        "    data = hdul[0].data  # Assuming primary HDU contains the image\n",
        "    header = hdul[0].header\n",
        "\n",
        "# Get image statistics\n",
        "#mean, median, std = sigma_clipped_stats(data, sigma=3.0)\n",
        "\n",
        "# Display the image\n",
        "plt.figure(figsize=(10, 8))\n",
        "plt.imshow(data, cmap='cubehelix_r',\n",
        "          vmin=median-2*std, vmax=median+10*std,\n",
        "          origin='lower')\n",
        "plt.colorbar(label='ADU')\n",
        "plt.title('KeplerCam Image: ' + header.get('OBJECT', 'Unknown'))\n",
        "plt.show()\n",
        "\n",
        "# Manual photometry - select a star position (adjust these)\n",
        "x_center, y_center = 500, 400  # Example coordinates - change these!\n",
        "radius = 5  # pixels\n",
        "\n",
        "# Create aperture mask\n",
        "y, x = np.indices(data.shape)\n",
        "r = np.sqrt((x - x_center)**2 + (y - y_center)**2)\n",
        "aperture_mask = r <= radius\n",
        "\n",
        "# Create background annulus\n",
        "inner_rad, outer_rad = 8, 12\n",
        "bkg_mask = (r > inner_rad) & (r <= outer_rad)\n",
        "\n",
        "# Calculate fluxes\n",
        "star_flux = np.sum(data[aperture_mask])\n",
        "bkg_level = np.median(data[bkg_mask])\n",
        "bkg_subtracted_flux = star_flux - (bkg_level * np.sum(aperture_mask))\n",
        "\n",
        "print(f\"Raw star flux: {star_flux:.1f} ADU\")\n",
        "print(f\"Background level: {bkg_level:.1f} ADU/pixel\")\n",
        "print(f\"Background-subtracted flux: {bkg_subtracted_flux:.1f} ADU\")\n",
        "\n",
        "# Plot with aperture overlay\n",
        "plt.figure(figsize=(10, 8))\n",
        "plt.imshow(data, cmap='cubehelix_r',\n",
        "          vmin=median-2*std, vmax=median+10*std,\n",
        "          origin='lower')\n",
        "plt.colorbar(label='ADU')\n",
        "\n",
        "# Draw circles\n",
        "theta = np.linspace(0, 2*np.pi, 100)\n",
        "plt.plot(x_center + radius*np.cos(theta),\n",
        "         y_center + radius*np.sin(theta), 'r-', lw=1)\n",
        "plt.plot(x_center + inner_rad*np.cos(theta),\n",
        "         y_center + inner_rad*np.sin(theta), 'b--', lw=0.7)\n",
        "plt.plot(x_center + outer_rad*np.cos(theta),\n",
        "          y_center + outer_rad*np.sin(theta), 'b--', lw=0.7)\n",
        "\n",
        "plt.title(f'Photometry (Flux = {bkg_subtracted_flux:.1f} ADU)')\n",
        "plt.show()"
      ],
      "metadata": {
        "colab": {
          "base_uri": "https://localhost:8080/",
          "height": 397
        },
        "id": "wR29rGRT8uMr",
        "outputId": "328169b1-64ed-4ac4-ece7-6ba3e9c5ab9b"
      },
      "execution_count": null,
      "outputs": [
        {
          "output_type": "stream",
          "name": "stdout",
          "text": [
            "Filename: drive/MyDrive/ASTRO 100/KeplerCam/2025.0318/0086.NGC4472.fits\n",
            "No.    Name      Ver    Type      Cards   Dimensions   Format\n",
            "  0  PRIMARY       1 PrimaryHDU      42   ()      \n",
            "  1  IM1           1 ImageHDU        48   (1040, 1025)   int16 (rescales to uint16)   \n",
            "  2  IM2           2 ImageHDU        48   (1040, 1025)   int16 (rescales to uint16)   \n",
            "  3  IM3           3 ImageHDU        48   (1040, 1025)   int16 (rescales to uint16)   \n",
            "  4  IM4           4 ImageHDU        48   (1040, 1025)   int16 (rescales to uint16)   \n"
          ]
        },
        {
          "output_type": "error",
          "ename": "NameError",
          "evalue": "name 'median' is not defined",
          "traceback": [
            "\u001b[0;31m---------------------------------------------------------------------------\u001b[0m",
            "\u001b[0;31mNameError\u001b[0m                                 Traceback (most recent call last)",
            "\u001b[0;32m<ipython-input-9-67371ded42cc>\u001b[0m in \u001b[0;36m<cell line: 0>\u001b[0;34m()\u001b[0m\n\u001b[1;32m     11\u001b[0m \u001b[0mplt\u001b[0m\u001b[0;34m.\u001b[0m\u001b[0mfigure\u001b[0m\u001b[0;34m(\u001b[0m\u001b[0mfigsize\u001b[0m\u001b[0;34m=\u001b[0m\u001b[0;34m(\u001b[0m\u001b[0;36m10\u001b[0m\u001b[0;34m,\u001b[0m \u001b[0;36m8\u001b[0m\u001b[0;34m)\u001b[0m\u001b[0;34m)\u001b[0m\u001b[0;34m\u001b[0m\u001b[0;34m\u001b[0m\u001b[0m\n\u001b[1;32m     12\u001b[0m plt.imshow(data, cmap='cubehelix_r',\n\u001b[0;32m---> 13\u001b[0;31m           \u001b[0mvmin\u001b[0m\u001b[0;34m=\u001b[0m\u001b[0mmedian\u001b[0m\u001b[0;34m-\u001b[0m\u001b[0;36m2\u001b[0m\u001b[0;34m*\u001b[0m\u001b[0mstd\u001b[0m\u001b[0;34m,\u001b[0m \u001b[0mvmax\u001b[0m\u001b[0;34m=\u001b[0m\u001b[0mmedian\u001b[0m\u001b[0;34m+\u001b[0m\u001b[0;36m10\u001b[0m\u001b[0;34m*\u001b[0m\u001b[0mstd\u001b[0m\u001b[0;34m,\u001b[0m\u001b[0;34m\u001b[0m\u001b[0;34m\u001b[0m\u001b[0m\n\u001b[0m\u001b[1;32m     14\u001b[0m           origin='lower')\n\u001b[1;32m     15\u001b[0m \u001b[0mplt\u001b[0m\u001b[0;34m.\u001b[0m\u001b[0mcolorbar\u001b[0m\u001b[0;34m(\u001b[0m\u001b[0mlabel\u001b[0m\u001b[0;34m=\u001b[0m\u001b[0;34m'ADU'\u001b[0m\u001b[0;34m)\u001b[0m\u001b[0;34m\u001b[0m\u001b[0;34m\u001b[0m\u001b[0m\n",
            "\u001b[0;31mNameError\u001b[0m: name 'median' is not defined"
          ]
        },
        {
          "output_type": "display_data",
          "data": {
            "text/plain": [
              "<Figure size 1000x800 with 0 Axes>"
            ]
          },
          "metadata": {}
        }
      ]
    },
    {
      "cell_type": "code",
      "source": [],
      "metadata": {
        "id": "Fl3Bi2m68vNt"
      },
      "execution_count": null,
      "outputs": []
    }
  ]
}